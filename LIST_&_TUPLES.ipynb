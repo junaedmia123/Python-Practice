{
  "nbformat": 4,
  "nbformat_minor": 0,
  "metadata": {
    "colab": {
      "provenance": [],
      "authorship_tag": "ABX9TyMN8cqZ4Dv+n5Pkj2/QO5H8",
      "include_colab_link": true
    },
    "kernelspec": {
      "name": "python3",
      "display_name": "Python 3"
    },
    "language_info": {
      "name": "python"
    }
  },
  "cells": [
    {
      "cell_type": "markdown",
      "metadata": {
        "id": "view-in-github",
        "colab_type": "text"
      },
      "source": [
        "<a href=\"https://colab.research.google.com/github/junaedmia123/Python-Practice/blob/main/LIST_%26_TUPLES.ipynb\" target=\"_parent\"><img src=\"https://colab.research.google.com/assets/colab-badge.svg\" alt=\"Open In Colab\"/></a>"
      ]
    },
    {
      "cell_type": "code",
      "execution_count": null,
      "metadata": {
        "id": "ELWjYL89k0LX"
      },
      "outputs": [],
      "source": [
        "#Lists in Python\"''\n",
        "\"\"\" A list in data type that stores set of values. It can store elements of different types (integer, float, string, etc.)\n",
        "marks1 = 94.4\n",
        "marks2 = 87.5\n",
        "marks3 = 95.2\n",
        "marks4 = 66.4\n",
        "marks = 45.1\n",
        "\n",
        "but it can easily written in List use\"\"\"\n"
      ]
    },
    {
      "cell_type": "code",
      "source": [
        "marks = [94.4, 87.5, 95.2, 66.4, 45.1]\n",
        "print(marks)\n",
        "print(type(marks))\n",
        "print(len(marks))\n",
        "\n",
        "print(marks[0])\n",
        "print(marks[1])\n",
        "\n"
      ],
      "metadata": {
        "id": "UHfBxJxqWgl2"
      },
      "execution_count": null,
      "outputs": []
    },
    {
      "cell_type": "code",
      "source": [
        "Student = [\"keran\", 95, 66.4, \"Delhi\"]\n",
        "print(Student)\n",
        "print(type(Student))\n",
        "\n",
        "\"\"\" List support various data types\n",
        "strings = immutable but list = mutable (changeable)\"\"\"\n",
        "#In Python, if an earlier line fails with an error, execution stops right there. Later lines won’t run until the error is fixed.\n",
        "\n",
        "str = \"hello\"\n",
        "print(str)\n",
        "str[0] = \"h\" # 'str' object does not support item assignment\n",
        "print(str)"
      ],
      "metadata": {
        "id": "GRyfMvmKXrsg"
      },
      "execution_count": null,
      "outputs": []
    },
    {
      "cell_type": "code",
      "source": [
        "# but\n",
        "Student = [\"keran\", 95, 66.4, \"Delhi\"]\n",
        "print(Student)\n",
        "Student[0] = \"arjun\"  # 'list' object does support item assignment\n",
        "print(Student)"
      ],
      "metadata": {
        "colab": {
          "base_uri": "https://localhost:8080/"
        },
        "id": "B6mgFMrncJpv",
        "outputId": "c85bc26b-fc97-4943-9656-7f086c53ff39"
      },
      "execution_count": null,
      "outputs": [
        {
          "output_type": "stream",
          "name": "stdout",
          "text": [
            "['keran', 95, 66.4, 'Delhi']\n",
            "['arjun', 95, 66.4, 'Delhi']\n"
          ]
        }
      ]
    },
    {
      "cell_type": "code",
      "source": [
        "Student = [\"keran\", 95, 66.4, \"Delhi\"]\n",
        "print(Student[4]) # this is error index"
      ],
      "metadata": {
        "id": "7t6bIRpGctt0"
      },
      "execution_count": null,
      "outputs": []
    },
    {
      "cell_type": "code",
      "source": [
        "#List Slicing\n",
        "#similar to string slicing\n",
        "'''list_name[starting_idx : ending_idx] # ending idx is not included'''\n",
        "\n",
        "marks = [85, 94, 76, 63, 48]\n",
        "print(marks[1:4])\n",
        "print(marks[1:])\n",
        "print(marks[:4])\n",
        "\n",
        "#negative index\n",
        "print(marks[-4:-3])"
      ],
      "metadata": {
        "colab": {
          "base_uri": "https://localhost:8080/"
        },
        "id": "8NFvMf0CdAvE",
        "outputId": "fb505f63-d5d1-47c2-cbe8-c440a3330e04"
      },
      "execution_count": null,
      "outputs": [
        {
          "output_type": "stream",
          "name": "stdout",
          "text": [
            "[94, 76, 63]\n",
            "[94, 76, 63, 48]\n",
            "[85, 94, 76, 63]\n",
            "[94]\n"
          ]
        }
      ]
    },
    {
      "cell_type": "code",
      "source": [
        "#List Methods\n",
        "\"\"\"append()\tAdds an element at the end of the list\"\"\"\n",
        "list = [2,1,3]\n",
        "list.append(6)\n",
        "print(list)\n"
      ],
      "metadata": {
        "colab": {
          "base_uri": "https://localhost:8080/"
        },
        "id": "glhcCSEGf3AP",
        "outputId": "3b383eae-4346-4e12-e510-610a52afb55b"
      },
      "execution_count": null,
      "outputs": [
        {
          "output_type": "stream",
          "name": "stdout",
          "text": [
            "[2, 1, 3, 6]\n"
          ]
        }
      ]
    },
    {
      "cell_type": "code",
      "source": [
        "#ascending order list\n",
        "list = [2,1,3]\n",
        "list.sort()\n",
        "print(list)"
      ],
      "metadata": {
        "colab": {
          "base_uri": "https://localhost:8080/"
        },
        "id": "vQvIen40-Ly4",
        "outputId": "c0d15eb2-369e-4469-a051-a28caf82edcb"
      },
      "execution_count": null,
      "outputs": [
        {
          "output_type": "stream",
          "name": "stdout",
          "text": [
            "[1, 2, 3]\n"
          ]
        }
      ]
    },
    {
      "cell_type": "code",
      "source": [
        "#descending order\n",
        "list = [2,1,3]\n",
        "list.sort(reverse=True)\n",
        "print(list)"
      ],
      "metadata": {
        "colab": {
          "base_uri": "https://localhost:8080/"
        },
        "id": "tSC8TAFGACIR",
        "outputId": "1ba8b92c-abe7-40b0-cce8-415738c28f5a"
      },
      "execution_count": null,
      "outputs": [
        {
          "output_type": "stream",
          "name": "stdout",
          "text": [
            "[3, 2, 1]\n"
          ]
        }
      ]
    },
    {
      "cell_type": "code",
      "source": [
        "#string sorting follows characterwise\n",
        "Fruits = [\"banana\", \"litchi\", \"Apple\"]\n",
        "Fruits.sort()\n",
        "print(Fruits)"
      ],
      "metadata": {
        "colab": {
          "base_uri": "https://localhost:8080/"
        },
        "id": "oQQMPnXPAito",
        "outputId": "1eda92ab-4983-4513-b2f1-ec53801bb908"
      },
      "execution_count": null,
      "outputs": [
        {
          "output_type": "stream",
          "name": "stdout",
          "text": [
            "['Apple', 'banana', 'litchi']\n"
          ]
        }
      ]
    },
    {
      "cell_type": "code",
      "source": [
        "#descending characterwise\n",
        "Fruits = [\"banana\", \"litchi\", \"Apple\"]\n",
        "Fruits.sort(reverse = True)\n",
        "print(Fruits)"
      ],
      "metadata": {
        "colab": {
          "base_uri": "https://localhost:8080/"
        },
        "id": "aCOYxhh8BRMu",
        "outputId": "5556f84b-35fb-4053-aee3-4e323b294206"
      },
      "execution_count": null,
      "outputs": [
        {
          "output_type": "stream",
          "name": "stdout",
          "text": [
            "['litchi', 'banana', 'Apple']\n"
          ]
        }
      ]
    },
    {
      "cell_type": "code",
      "source": [
        "characters = ['a', 'b', 'c', 'd', 'e', 'f']\n",
        "characters.append('g')\n",
        "characters.sort(reverse = True)\n",
        "print(characters)\n"
      ],
      "metadata": {
        "colab": {
          "base_uri": "https://localhost:8080/"
        },
        "id": "nnD2kjgfBi3O",
        "outputId": "4e8e593b-3a91-41f6-e84e-5a1342ccf6db"
      },
      "execution_count": null,
      "outputs": [
        {
          "output_type": "stream",
          "name": "stdout",
          "text": [
            "['g', 'f', 'e', 'd', 'c', 'b', 'a']\n"
          ]
        }
      ]
    },
    {
      "cell_type": "code",
      "source": [
        "#.reverse () function\n",
        "characters = ['a', 'c', 'd', 'f', 'b', 'e']\n",
        "characters.reverse()\n",
        "print(characters)\n"
      ],
      "metadata": {
        "colab": {
          "base_uri": "https://localhost:8080/"
        },
        "id": "OTLW0egPCRqP",
        "outputId": "35e8539e-f19c-4253-e0a9-48b5d3bdb702"
      },
      "execution_count": null,
      "outputs": [
        {
          "output_type": "stream",
          "name": "stdout",
          "text": [
            "['e', 'b', 'f', 'd', 'c', 'a']\n"
          ]
        }
      ]
    },
    {
      "cell_type": "code",
      "source": [
        "#.insert(idx, el)\n",
        "characters = ['a', 'c', 'd', 'f', 'b', 'e']\n",
        "characters.insert(2, 'g')\n",
        "print(characters)"
      ],
      "metadata": {
        "colab": {
          "base_uri": "https://localhost:8080/"
        },
        "id": "fPVvOS86DLZm",
        "outputId": "7fed6f6a-7ad0-48e8-dd58-be9e13d0f9c2"
      },
      "execution_count": null,
      "outputs": [
        {
          "output_type": "stream",
          "name": "stdout",
          "text": [
            "['a', 'c', 'g', 'd', 'f', 'b', 'e']\n"
          ]
        }
      ]
    },
    {
      "cell_type": "code",
      "source": [
        "#.remove(no.) method\n",
        "characters = ['a', 'c', 'd', 'f', 'd', 'e']\n",
        "characters.remove('d') # removes first occurrence of element\n",
        "print(characters)"
      ],
      "metadata": {
        "colab": {
          "base_uri": "https://localhost:8080/"
        },
        "id": "YgSF3doXD7a2",
        "outputId": "5c414e2c-e634-49c6-f2c6-ddde546887ad"
      },
      "execution_count": null,
      "outputs": [
        {
          "output_type": "stream",
          "name": "stdout",
          "text": [
            "['a', 'c', 'f', 'd', 'e']\n"
          ]
        }
      ]
    },
    {
      "cell_type": "code",
      "source": [
        "#.pop(idx) funtion\n",
        "characters = ['a', 'b', 'c', 'd', 'e', 'f']\n",
        "characters.pop(2)\n",
        "print(characters)\n"
      ],
      "metadata": {
        "colab": {
          "base_uri": "https://localhost:8080/"
        },
        "id": "8K0dhTfXF10V",
        "outputId": "b94bb2b5-77b8-4321-a26b-e7819e8e2702"
      },
      "execution_count": null,
      "outputs": [
        {
          "output_type": "stream",
          "name": "stdout",
          "text": [
            "['a', 'b', 'd', 'e', 'f']\n"
          ]
        }
      ]
    },
    {
      "cell_type": "code",
      "source": [
        "#Tuples in Python\n",
        "number = (1,2,3,4,5,)\n",
        "print(type(number))\n",
        "print(number[2])\n",
        "#number[1] = 5 'tuple' object does not support item assignment"
      ],
      "metadata": {
        "id": "QezH7ab7lE00",
        "colab": {
          "base_uri": "https://localhost:8080/"
        },
        "outputId": "0fc647db-deb2-493c-d6c9-f603c12f65d2"
      },
      "execution_count": null,
      "outputs": [
        {
          "output_type": "stream",
          "name": "stdout",
          "text": [
            "<class 'tuple'>\n",
            "3\n"
          ]
        }
      ]
    },
    {
      "cell_type": "code",
      "source": [
        "tup = ()\n",
        "print(tup)\n",
        "print(type(tup))"
      ],
      "metadata": {
        "colab": {
          "base_uri": "https://localhost:8080/"
        },
        "id": "vpER6AFQzS2E",
        "outputId": "205ea82a-6b39-4ae9-cf6c-4f63295615ac"
      },
      "execution_count": null,
      "outputs": [
        {
          "output_type": "stream",
          "name": "stdout",
          "text": [
            "()\n",
            "<class 'tuple'>\n"
          ]
        }
      ]
    },
    {
      "cell_type": "code",
      "source": [
        "tup = (1,)\n",
        "print(tup)\n",
        "print(type(tup))\n",
        "\n",
        "#but\n",
        "tup = (1)\n",
        "print(tup)\n",
        "print(type(tup))\n"
      ],
      "metadata": {
        "colab": {
          "base_uri": "https://localhost:8080/"
        },
        "id": "9gWIAZrKzfeT",
        "outputId": "c7c83bc9-05bd-4f65-de8e-b26f449b81c4"
      },
      "execution_count": null,
      "outputs": [
        {
          "output_type": "stream",
          "name": "stdout",
          "text": [
            "(1,)\n",
            "<class 'tuple'>\n",
            "1\n",
            "<class 'int'>\n"
          ]
        }
      ]
    },
    {
      "cell_type": "code",
      "source": [
        "#tuple slicing\n",
        "number = (1,2,3,4,5)\n",
        "print(number[2:4])\n"
      ],
      "metadata": {
        "colab": {
          "base_uri": "https://localhost:8080/"
        },
        "id": "HG20Q5BRzvkS",
        "outputId": "422626fc-e35c-4403-a33b-1a35f0f1ed50"
      },
      "execution_count": null,
      "outputs": [
        {
          "output_type": "stream",
          "name": "stdout",
          "text": [
            "(3, 4)\n"
          ]
        }
      ]
    },
    {
      "cell_type": "code",
      "source": [
        "#tuple MEthods\n",
        "tup = (1, 2, 3, 3, 4, 5)\n",
        "tup.index(2)"
      ],
      "metadata": {
        "colab": {
          "base_uri": "https://localhost:8080/"
        },
        "id": "2kEh8kW10bhj",
        "outputId": "945db9a8-29bd-42e6-8ba5-f960145e6a4f"
      },
      "execution_count": null,
      "outputs": [
        {
          "output_type": "execute_result",
          "data": {
            "text/plain": [
              "1"
            ]
          },
          "metadata": {},
          "execution_count": 37
        }
      ]
    },
    {
      "cell_type": "code",
      "source": [
        "#tuple MEthods\n",
        "tup = (1, 2, 3, 3, 4, 5)\n",
        "tup.count(3)"
      ],
      "metadata": {
        "colab": {
          "base_uri": "https://localhost:8080/"
        },
        "id": "APw1qYhM1m5y",
        "outputId": "38c67408-f44a-4268-e57c-d39b5b67759b"
      },
      "execution_count": null,
      "outputs": [
        {
          "output_type": "execute_result",
          "data": {
            "text/plain": [
              "2"
            ]
          },
          "metadata": {},
          "execution_count": 38
        }
      ]
    },
    {
      "cell_type": "code",
      "source": [
        "#Let's Practice\n",
        "# WAP to ask the user to enter names of their 3 favourite movies & store them in a list\n",
        "movies = []\n",
        "mov1 = input(\"enter 1st movie name: \")\n",
        "mov2 = input(\"enter 2nd movie name: \")\n",
        "mov3 = input(\"enter 3rd movie name: \")\n",
        "movies.append(mov1)\n",
        "movies.append(mov2)\n",
        "movies.append(mov3)\n",
        "print(movies)"
      ],
      "metadata": {
        "colab": {
          "base_uri": "https://localhost:8080/"
        },
        "id": "u9iBmN-A2EhI",
        "outputId": "fe5686b1-a519-4d48-e863-ecb3b959ddf2"
      },
      "execution_count": null,
      "outputs": [
        {
          "output_type": "stream",
          "name": "stdout",
          "text": [
            "enter 1st movie name: The life of Pie\n",
            "enter 2nd movie name: Thirteen Lives\n",
            "enter 3rd movie name: Apocalypto\n",
            "['The life of Pie', 'Thirteen Lives', 'Apocalypto']\n"
          ]
        }
      ]
    },
    {
      "cell_type": "code",
      "source": [
        "movies = []\n",
        "movies.append(input(\"enter 1st movie name: \"))\n",
        "movies.append(input(\"enter 2nd movie name: \"))\n",
        "movies.append(input(\"enter 3rd movie name: \"))\n",
        "print(movies)"
      ],
      "metadata": {
        "colab": {
          "base_uri": "https://localhost:8080/"
        },
        "id": "ZE1nqTPh5QWm",
        "outputId": "2ff5a521-57f2-46c9-f390-9ae3fcdf2c0e"
      },
      "execution_count": null,
      "outputs": [
        {
          "output_type": "stream",
          "name": "stdout",
          "text": [
            "enter 1st movie name: Daruchini dip\n",
            "enter 2nd movie name: Ora 11 jon\n",
            "enter 3rd movie name: Amar bondhu Rashed\n",
            "['Daruchini dip', 'Ora 11 jon', 'Amar bondhu Rashed']\n"
          ]
        }
      ]
    },
    {
      "cell_type": "code",
      "source": [
        "#WAP to check if a list a palindrome of elements\n",
        "list1 = [1,2,3]\n",
        "copy_list1 = list1.copy()\n",
        "copy_list1.reverse()\n",
        "if list1 == copy_list1:\n",
        "    print(\"palindrome\")\n",
        "else:\n",
        "    print(\"not palindrome\")"
      ],
      "metadata": {
        "colab": {
          "base_uri": "https://localhost:8080/"
        },
        "id": "axC7dSvU51_g",
        "outputId": "e0ad6468-1025-4d1e-e142-222b08c462fb"
      },
      "execution_count": null,
      "outputs": [
        {
          "output_type": "stream",
          "name": "stdout",
          "text": [
            "not palindrome\n"
          ]
        }
      ]
    },
    {
      "cell_type": "code",
      "source": [
        "'''WAP to count the number of students with \"A\" grade in the following tuple\n",
        "[\"c\", \"D\", \"A\", \"A\", \"B\", \"B\", \"A\"]\n",
        "Store the above values in a list & sort them from \"A\" To \"D\". '''\n",
        "\n",
        "grade = [\"c\", \"D\", \"A\", \"A\", \"B\", \"B\", \"A\"]\n",
        "print(grade.count(\"A\"))\n",
        "grade.sort()\n",
        "print(grade)\n",
        "\n"
      ],
      "metadata": {
        "colab": {
          "base_uri": "https://localhost:8080/"
        },
        "id": "S_reOCVY8yzr",
        "outputId": "3ecf5e7d-77c4-448d-9a3e-8df4bae44ff1"
      },
      "execution_count": null,
      "outputs": [
        {
          "output_type": "stream",
          "name": "stdout",
          "text": [
            "3\n",
            "['A', 'A', 'A', 'B', 'B', 'D', 'c']\n"
          ]
        }
      ]
    }
  ]
}