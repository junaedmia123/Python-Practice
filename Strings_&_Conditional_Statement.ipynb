{
  "nbformat": 4,
  "nbformat_minor": 0,
  "metadata": {
    "colab": {
      "provenance": [],
      "authorship_tag": "ABX9TyOmVdg86A27dXdcv55PCjuy",
      "include_colab_link": true
    },
    "kernelspec": {
      "name": "python3",
      "display_name": "Python 3"
    },
    "language_info": {
      "name": "python"
    }
  },
  "cells": [
    {
      "cell_type": "markdown",
      "metadata": {
        "id": "view-in-github",
        "colab_type": "text"
      },
      "source": [
        "<a href=\"https://colab.research.google.com/github/junaedmia123/Python-Practice/blob/main/Strings_%26_Conditional_Statement.ipynb\" target=\"_parent\"><img src=\"https://colab.research.google.com/assets/colab-badge.svg\" alt=\"Open In Colab\"/></a>"
      ]
    },
    {
      "cell_type": "code",
      "execution_count": null,
      "metadata": {
        "id": "851Q2E8hnkYk"
      },
      "outputs": [],
      "source": [
        "str1 = \"This is a string.\"\n",
        "str2 = 'ApnaCollege'\n",
        "str3 = \"\"\"This is a string\"\"\"\n",
        "#Python see it(') as a single qoutation that's why we should enclose it in double qoutation sign\n",
        "# 'This is apnacollege's tutorial' - this is Wrong\n",
        "# \"This is apnacollege's tutorial\" - this is right"
      ]
    },
    {
      "cell_type": "code",
      "source": [
        "str1 = \"This is a string. We are creating it in python.\"\n",
        "print(str1)"
      ],
      "metadata": {
        "id": "2Zk-MjHAoR8f"
      },
      "execution_count": null,
      "outputs": []
    },
    {
      "cell_type": "code",
      "source": [
        "str1 = \"This is a string.\\nWe are creating it in python.\"\n",
        "print(str1)\n",
        "str2 = \"This is a string.\\tWe are creating it in python.\"\n",
        "print(str2)"
      ],
      "metadata": {
        "id": "QFAzdEvnoWjl"
      },
      "execution_count": null,
      "outputs": []
    },
    {
      "cell_type": "code",
      "source": [
        "str1 = \"apna\"\n",
        "str2 = \"college\"\n",
        "print(str1 + str2)\n",
        "\n",
        "# now think it another way\n",
        "final_str = str1+str2\n",
        "print(final_str)"
      ],
      "metadata": {
        "colab": {
          "base_uri": "https://localhost:8080/"
        },
        "id": "5-P5Nm-5oa-d",
        "outputId": "8fcadb3d-d480-4d8f-c9f9-e05b003994c9"
      },
      "execution_count": null,
      "outputs": [
        {
          "output_type": "stream",
          "name": "stdout",
          "text": [
            "apnacollege\n",
            "apnacollege\n"
          ]
        }
      ]
    },
    {
      "cell_type": "code",
      "source": [
        "# len function\n",
        "str1 = \"apna\"\n",
        "len1 = str1\n",
        "print(len(str1))\n",
        "str2 = \"college\"\n",
        "len2 = str2\n",
        "print(len(str2))\n",
        "final_str = str1 +str2\n",
        "print(len(final_str))\n",
        "\n",
        "# len count everything like space, any count ,etc\n",
        "final_str = str1 + \" \" +str2\n",
        "print(len(final_str))"
      ],
      "metadata": {
        "id": "3sdQ9VRSof8t"
      },
      "execution_count": null,
      "outputs": []
    },
    {
      "cell_type": "code",
      "source": [
        "# Indexing\n",
        "\n",
        "str = \"apna college\"\n",
        "ch = str[1]\n",
        "print(ch)\n",
        "\n",
        "#or\n",
        "ch = str[-1]\n",
        "print(ch)\n",
        "\n",
        "# or\n",
        "print(str[5])\n",
        "''' indexing character access possible not mainuplate it\n",
        "str[4] = \"@\"\n",
        "print(str) - That is not allowed'''"
      ],
      "metadata": {
        "colab": {
          "base_uri": "https://localhost:8080/",
          "height": 87
        },
        "id": "xx5Gjv--ooot",
        "outputId": "89dd059f-9d25-43eb-d3ee-54f6fa71e4df"
      },
      "execution_count": null,
      "outputs": [
        {
          "output_type": "stream",
          "name": "stdout",
          "text": [
            "p\n",
            "e\n",
            "c\n"
          ]
        },
        {
          "output_type": "execute_result",
          "data": {
            "text/plain": [
              "' indexing character access possible not mainuplate it\\nstr[4] = \"@\"\\nprint(str) - That is not allowed'"
            ],
            "application/vnd.google.colaboratory.intrinsic+json": {
              "type": "string"
            }
          },
          "metadata": {},
          "execution_count": 6
        }
      ]
    },
    {
      "cell_type": "code",
      "source": [
        "# slicing\n",
        "str = \"apna college\"\n",
        "print(str[1:4])\n",
        "print(str[1:5])\n",
        "\n",
        "print(str[0:4])\n",
        "#or\n",
        "print(str[:4]) # [0:4]\n",
        "\n",
        "print(str[5:12])\n",
        "#or\n",
        "print(str[5:len(str)])\n",
        "#or\n",
        "print(str[5:]) # [5: len(str)]"
      ],
      "metadata": {
        "colab": {
          "base_uri": "https://localhost:8080/"
        },
        "id": "5cTZpK6por32",
        "outputId": "48fecad8-a1fa-4dae-929f-dd569eeec8c9"
      },
      "execution_count": null,
      "outputs": [
        {
          "output_type": "stream",
          "name": "stdout",
          "text": [
            "pna\n",
            "pna \n",
            "apna\n",
            "apna\n",
            "college\n",
            "college\n",
            "college\n"
          ]
        }
      ]
    },
    {
      "cell_type": "code",
      "source": [
        "# slicing negative index\n",
        "\n",
        "str = \"Apple\"\n",
        "print(str[-3:-1])\n",
        "\n",
        "print(str[-5:-2])"
      ],
      "metadata": {
        "colab": {
          "base_uri": "https://localhost:8080/"
        },
        "id": "hlb3DkZ_ozVD",
        "outputId": "bc0b1360-7b72-407a-f7cf-588666eab416"
      },
      "execution_count": null,
      "outputs": [
        {
          "output_type": "stream",
          "name": "stdout",
          "text": [
            "pl\n",
            "App\n"
          ]
        }
      ]
    },
    {
      "cell_type": "code",
      "source": [
        "# String Function\n",
        "str = 'I am studying at Apna College'  # returns true if string ends with substr\n",
        "str.endswith(\"ege\")"
      ],
      "metadata": {
        "colab": {
          "base_uri": "https://localhost:8080/"
        },
        "id": "vQqWMb888iwJ",
        "outputId": "f5db212d-07d2-4670-92eb-640f31cbc4d0"
      },
      "execution_count": null,
      "outputs": [
        {
          "output_type": "execute_result",
          "data": {
            "text/plain": [
              "True"
            ]
          },
          "metadata": {},
          "execution_count": 19
        }
      ]
    },
    {
      "cell_type": "code",
      "source": [
        "str = 'i am studying at Apna College'\n",
        "print(str.capitalize())\n",
        "print(str)\n"
      ],
      "metadata": {
        "colab": {
          "base_uri": "https://localhost:8080/"
        },
        "id": "1XH5_TYZ-ioj",
        "outputId": "ab2bd387-fadc-4451-8a15-c2a20ea63a87"
      },
      "execution_count": null,
      "outputs": [
        {
          "output_type": "stream",
          "name": "stdout",
          "text": [
            "I am studying at apna college\n",
            "i am studying at Apna College\n"
          ]
        }
      ]
    },
    {
      "cell_type": "code",
      "source": [
        "str = 'i am studying at Apna College'\n",
        "str = (str.capitalize())\n",
        "print(str)"
      ],
      "metadata": {
        "colab": {
          "base_uri": "https://localhost:8080/"
        },
        "id": "uEtjMeSW_VYi",
        "outputId": "cc7aebde-bcac-463c-a929-b74a86f1a911"
      },
      "execution_count": null,
      "outputs": [
        {
          "output_type": "stream",
          "name": "stdout",
          "text": [
            "I am studying at apna college\n"
          ]
        }
      ]
    },
    {
      "cell_type": "code",
      "source": [
        "# Replace function # Replaces all occurrences of old with new\n",
        "str = 'i am studying Python from Apna College'\n",
        "str = str.replace(\"o\", \"a\")\n",
        "print(str)\n",
        "\n",
        "str = 'i am studying Python from Apna College'\n",
        "str = str.replace(\"Python\", \"Javascipt\")\n",
        "print(str)"
      ],
      "metadata": {
        "id": "4zwn0GMk_alI"
      },
      "execution_count": null,
      "outputs": []
    },
    {
      "cell_type": "code",
      "source": [
        "# find Function # returns 1st index of 1st occurrerence\n",
        "str = 'i am studying Python from Apna College'\n",
        "print(str.find(\"Python\"))\n",
        "print(str.find(\"Apna\"))"
      ],
      "metadata": {
        "id": "92AQN0QMAoW5"
      },
      "execution_count": null,
      "outputs": []
    },
    {
      "cell_type": "code",
      "source": [
        "# count functin #counts the occurrence of substr in string\n",
        "str = 'i am studying from Python from Apna College'\n",
        "print(str.count(\"o\"))\n",
        "print(str.count(\"from\"))\n"
      ],
      "metadata": {
        "id": "nR8Pb2EeBbLJ"
      },
      "execution_count": null,
      "outputs": []
    },
    {
      "cell_type": "code",
      "source": [
        "# Let's practice\n",
        "# WAP to input user's first name & print its length\n",
        "str = \" My first name is Junaed\"\n",
        "print(len(str))"
      ],
      "metadata": {
        "colab": {
          "base_uri": "https://localhost:8080/"
        },
        "id": "_l0_OIG9CprG",
        "outputId": "bc230e22-6b91-426f-9240-54537373d064"
      },
      "execution_count": null,
      "outputs": [
        {
          "output_type": "stream",
          "name": "stdout",
          "text": [
            "24\n"
          ]
        }
      ]
    },
    {
      "cell_type": "code",
      "source": [
        "str = input(\"Enter your First Name: \")\n",
        "print(\"length of your name is\", len(str))\n",
        "\n"
      ],
      "metadata": {
        "id": "gc9QNybJDi9K"
      },
      "execution_count": null,
      "outputs": []
    },
    {
      "cell_type": "code",
      "source": [
        "# WAP to find the occurrence of \"$\" in a string\n",
        "\n",
        "str = \"My name is $junaed 99$ $\"\n",
        "print(str.count(\"$\"))\n"
      ],
      "metadata": {
        "id": "-ZNYRs4hEJKn"
      },
      "execution_count": null,
      "outputs": []
    },
    {
      "cell_type": "code",
      "source": [
        "# Conditional Statements\n",
        "age = 24\n",
        "if(age >= 18):\n",
        "  print(\"can vote and apply for license\")"
      ],
      "metadata": {
        "colab": {
          "base_uri": "https://localhost:8080/"
        },
        "id": "GaaeGp2WFjhj",
        "outputId": "a24f14de-0bdb-4eb6-e780-313331c89fa6"
      },
      "execution_count": null,
      "outputs": [
        {
          "output_type": "stream",
          "name": "stdout",
          "text": [
            "can vote and apply for license\n"
          ]
        }
      ]
    },
    {
      "cell_type": "code",
      "source": [
        "# or\n",
        "light = \"green\"\n",
        "\n",
        "if(light == \"red\"):\n",
        "    print(\"stop\")\n",
        "elif(light == \"green\"):\n",
        "    print(\"go\")\n",
        "elif(light == \"yellow\"):\n",
        "    print(\"ready\")\n",
        "\n",
        "\n",
        "print(\"end of code\")"
      ],
      "metadata": {
        "id": "WYXRQfmsTWhq"
      },
      "execution_count": null,
      "outputs": []
    },
    {
      "cell_type": "code",
      "source": [
        "num = 5\n",
        "\n",
        "if(num > 2):\n",
        "  print(\"greater than 2\")\n",
        "if(num > 1):\n",
        "  print(\"greater than 1\")\n",
        "\n",
        "# on the otherhand elif statement is working when if statement is becomig false\n",
        "\n",
        "if(num > 6):\n",
        "  print(\"greater than 2\")\n",
        "elif(num > 3):\n",
        "  print(\"greater than 1\")"
      ],
      "metadata": {
        "id": "QDeI8WvcTvDa"
      },
      "execution_count": null,
      "outputs": []
    },
    {
      "cell_type": "code",
      "source": [
        "# else statement working when everything is false\n",
        "light = \"pink\"\n",
        "\n",
        "if(light == \"red\"):\n",
        "    print(\"stop\")\n",
        "elif(light == \"green\"):\n",
        "    print(\"go\")\n",
        "elif(light == \"yellow\"):\n",
        "    print(\"ready\")\n",
        "else:\n",
        "  print(\"light is broken\")"
      ],
      "metadata": {
        "colab": {
          "base_uri": "https://localhost:8080/"
        },
        "id": "d02wV0m4XjSX",
        "outputId": "8c0b1a4e-7e18-448c-b0f3-885103b6bdd9"
      },
      "execution_count": null,
      "outputs": [
        {
          "output_type": "stream",
          "name": "stdout",
          "text": [
            "light is broken\n"
          ]
        }
      ]
    },
    {
      "cell_type": "code",
      "source": [
        "age = 20\n",
        "if(age >=18):\n",
        "  print(\"can vote\") #indentation\n",
        "else:\n",
        "  print(\"can't vote\")"
      ],
      "metadata": {
        "id": "SpvVct2IX3eA",
        "colab": {
          "base_uri": "https://localhost:8080/"
        },
        "outputId": "4601fbc0-5f38-4b5c-a9e3-a8d4d942eaa9"
      },
      "execution_count": null,
      "outputs": [
        {
          "output_type": "stream",
          "name": "stdout",
          "text": [
            "can vote\n"
          ]
        }
      ]
    },
    {
      "cell_type": "code",
      "source": [
        "#Conditional Statement\n",
        "#Grade on student marks based\n",
        "\n",
        "marks = input(\"Enter your marks: \")\n",
        "marks = int(marks)\n",
        "\n",
        "if(marks >=80):\n",
        "  Grade = \"A+\"\n",
        "elif(marks >=75 and marks <80):\n",
        "  Grade = \"A\"\n",
        "elif(marks >=70 and marks <75):\n",
        "  Grade = \"A-\"\n",
        "elif(marks >=65 and marks <70):\n",
        "  Grade = \"B+\"\n",
        "elif(marks >=60 and marks <65):\n",
        "  Grade = \"B\"\n",
        "elif(marks >=55 and marks <60):\n",
        "  Grade = \"B-\"\n",
        "elif(marks >=50 and marks <55):\n",
        "  Grade = \"C+\"\n",
        "elif(marks >=45 and marks <50):\n",
        "  Grade = \"C\"\n",
        "elif(marks >=40 and marks <45):\n",
        "  Grade = \"D\"\n",
        "elif(marks <40):\n",
        "  Grade = \"F\"\n",
        "print(\"Your Grade is\" , Grade)"
      ],
      "metadata": {
        "id": "nudKN_jC_s7k"
      },
      "execution_count": null,
      "outputs": []
    },
    {
      "cell_type": "code",
      "source": [
        "# Let's Practice\n",
        "#WAP to check if a number entered by the user is odd or even\n",
        "Number = input(\"Enter the number: \")\n",
        "Number = int(Number)\n",
        "if(Number % 2 == 0):\n",
        "  print(\"Even\")\n",
        "else:\n",
        "    print(\"Odd\")"
      ],
      "metadata": {
        "colab": {
          "base_uri": "https://localhost:8080/"
        },
        "id": "MVcwX_aVKF4d",
        "outputId": "80215012-c43d-4ca5-c9cd-f0a248fad14e"
      },
      "execution_count": null,
      "outputs": [
        {
          "output_type": "stream",
          "name": "stdout",
          "text": [
            "Enter the number: 34\n",
            "Even\n"
          ]
        }
      ]
    },
    {
      "cell_type": "code",
      "source": [
        "#WAP to find the greatest of 3 numbers entered by the user\n",
        "a= int(input(\"Enter first number: \"))\n",
        "b= int(input(\"Enter second number: \"))\n",
        "c= int(input(\"Enter third number: \"))\n",
        "if(a>b and a>c):\n",
        "  print(\"First number is largest\", a)\n",
        "elif(b>c):\n",
        "  print(\"Second number is largest\", b)\n",
        "elif(a== b== c):\n",
        "  print(\"All are equal\")\n",
        "else:\n",
        "  print(\"Third number is largest\", c)"
      ],
      "metadata": {
        "id": "yR9OwrQpLSKy"
      },
      "execution_count": null,
      "outputs": []
    },
    {
      "cell_type": "code",
      "source": [
        "#WAP to check if a number is a multiple of 7 or not\n",
        "x = int(input(\"Enter the number: \"))\n",
        "if(x % 7 == 0):\n",
        "  print(\"Multiple of 7\")\n",
        "else:\n",
        "  print(\"Not a multiple of 7\")"
      ],
      "metadata": {
        "colab": {
          "base_uri": "https://localhost:8080/"
        },
        "id": "RF-IbLqSMVIC",
        "outputId": "e43020e3-121a-4bff-8e95-559209310bfa"
      },
      "execution_count": null,
      "outputs": [
        {
          "output_type": "stream",
          "name": "stdout",
          "text": [
            "Enter the number: 21\n",
            "Multiple of 7\n"
          ]
        }
      ]
    },
    {
      "cell_type": "code",
      "source": [
        "# WAp to convert credit to ECTS\n",
        "Credit = int(input(\"Enter Your Course credit: \"))\n",
        "Credit = Credit * 1.5\n",
        "print(\"Your ECTS is\", Credit)"
      ],
      "metadata": {
        "id": "T623K08SX1he",
        "colab": {
          "base_uri": "https://localhost:8080/"
        },
        "outputId": "5c33adb1-e4d8-466a-e27b-9a642ad01e71"
      },
      "execution_count": null,
      "outputs": [
        {
          "output_type": "stream",
          "name": "stdout",
          "text": [
            "Enter Your Course credit: 5\n",
            "Your ECTS is 7.5\n"
          ]
        }
      ]
    },
    {
      "cell_type": "code",
      "source": [
        "#WAP that takes a single character as input and checks wheather it is a vowel or consonant\n",
        "character = input(\"Enter a character: \")\n",
        "if(character == \"a\"or character==\"e\" or  character== \"i\" or character== \"o\" or character==\"u\"):\n",
        "  print(\"The character is Vowel\",)\n",
        "else:\n",
        "  print(\"Consonant\")"
      ],
      "metadata": {
        "colab": {
          "base_uri": "https://localhost:8080/"
        },
        "id": "LHGBlXA4CFut",
        "outputId": "7a9d022f-d7ed-4397-c02d-4648a27bb65c"
      },
      "execution_count": null,
      "outputs": [
        {
          "output_type": "stream",
          "name": "stdout",
          "text": [
            "Enter a character: u\n",
            "The character is Vowel\n"
          ]
        }
      ]
    },
    {
      "cell_type": "code",
      "source": [
        "#WAP to check word Palindrome\n",
        "word = input(\"Enter a word: \")\n",
        "if(word.lower() == word.lower()[::-1] ):\n",
        "  print(\"Palindrome\")\n",
        "else:\n",
        "  print(\"Not Palindrome\")"
      ],
      "metadata": {
        "colab": {
          "base_uri": "https://localhost:8080/"
        },
        "id": "r6_A9r5RGzOL",
        "outputId": "d144ea7c-ea10-4df5-c54c-5a8dc60ac351"
      },
      "execution_count": null,
      "outputs": [
        {
          "output_type": "stream",
          "name": "stdout",
          "text": [
            "Enter a word: Madam\n",
            "Palindrome\n"
          ]
        }
      ]
    },
    {
      "cell_type": "code",
      "source": [
        "password = input(\"Enter a password: \")\n",
        "\n",
        "if len(password) >= 8 and any(char.isdigit() or char.isupper() for char in password):\n",
        "    print(\"Valid Password\")\n",
        "else:\n",
        "    print(\"Weak password\")"
      ],
      "metadata": {
        "id": "MrM2dZpCIL3C"
      },
      "execution_count": null,
      "outputs": []
    }
  ]
}